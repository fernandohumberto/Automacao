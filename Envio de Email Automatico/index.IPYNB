{
 "cells": [
  {
   "attachments": {},
   "cell_type": "markdown",
   "metadata": {},
   "source": [
    "#Passo 1: Entrar no sistema da empresa (no link do drive)\n",
    "#Passo 2: Navegar até o local do relatório (entrar na pasta Exportar)\n",
    "#Passo 3: Exportar relatorio (Fazer o dowload)\n",
    "#Passo 4: Calcular os indicadores(faturamento e quantidade de produtos)\n",
    "#Passo 5: Enviar e-mail para a diretoria"
   ]
  },
  {
   "cell_type": "code",
   "execution_count": 2,
   "metadata": {},
   "outputs": [],
   "source": [
    "# importações\n",
    "import pyautogui as pg\n",
    "import pyperclip as pc\n",
    "import time\n",
    "import pandas as pd\n",
    "import numpy as np"
   ]
  },
  {
   "cell_type": "code",
   "execution_count": 7,
   "metadata": {},
   "outputs": [],
   "source": [
    "# Passo 1: Entrar no sistema da empresa (no link do drive)\n",
    "pg.PAUSE = 3\n",
    "pg.press(\"win\")\n",
    "pg.write(\"Chrome\")\n",
    "pg.press(\"enter\")\n",
    "pc.copy(\"https://drive.google.com/drive/folders/149xknr9JvrlEnhNWO49zPcw0PW5icxga?usp=sharing\")\n",
    "pg.hotkey(\"ctrl\", \"v\")\n",
    "pg.press(\"enter\")\n",
    "# Passo 2: Navegar até o local do relatório (entrar na pasta Exportar)\n",
    "time.sleep(3)\n",
    "pg.click(x=350, y=349, clicks=2)\n",
    "# Passo 3: Exportar relatorio (Fazer o dowload)\n",
    "pg.click(x=385, y=344)\n",
    "pg.click(x=385, y=344, button=\"right\")\n",
    "pg.click(x=588, y=569)\n",
    "# Passo 4: Calcular os indicadores(faturamento e quantidade de produtos)\n",
    "tabela = pd.read_excel(r\"C:\\Users\\ferna\\Downloads\\Vendas - Dez.xlsx\")\n",
    "faturamento = tabela[\"Valor Final\"].sum()\n",
    "quantidade = tabela[\"Quantidade\"].sum()\n",
    "time.sleep(3)\n",
    "#Passo 5: Enviar e-mail para a diretoria\n",
    "pg.hotkey(\"ctrl\", \"t\")\n",
    "pg.press(\"enter\")\n",
    "pg.write(\"https://mail.google.com/mail/u/0/#inbox\")\n",
    "pg.press('enter')\n",
    "pg.click(x=69, y=204)\n",
    "pg.write('fernandohsmj1@gmail.com')\n",
    "pg.press('tab')\n",
    "time.sleep(1)\n",
    "pg.press('tab')\n",
    "pc.copy(\"Relatório de Vendas\")\n",
    "pg.hotkey(\"ctrl\", \"v\") \n",
    "pg.press('tab')\n",
    "texto = f'''\n",
    "Prezados, boa noite!\n",
    "\n",
    "O faturamento de ontem foi de : R${faturamento:,.2f}\n",
    "A quantidade de produtos foi de : {quantidade:,}\n",
    "\n",
    "'''\n",
    "\n",
    "pc.copy(texto)\n",
    "pg.hotkey(\"ctrl\", \"v\")  \n",
    "\n"
   ]
  }
 ],
 "metadata": {
  "kernelspec": {
   "display_name": "Python 3",
   "language": "python",
   "name": "python3"
  },
  "language_info": {
   "codemirror_mode": {
    "name": "ipython",
    "version": 3
   },
   "file_extension": ".py",
   "mimetype": "text/x-python",
   "name": "python",
   "nbconvert_exporter": "python",
   "pygments_lexer": "ipython3",
   "version": "3.11.3"
  },
  "orig_nbformat": 4
 },
 "nbformat": 4,
 "nbformat_minor": 2
}
