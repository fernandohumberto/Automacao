{
 "cells": [
  {
   "attachments": {},
   "cell_type": "markdown",
   "metadata": {},
   "source": [
    "#Passo 1: Entrar no sistema da empresa (no link do drive)\n",
    "#Passo 2: Navegar até o local do relatório (entrar na pasta Exportar)\n",
    "#Passo 3: Exportar relatorio (Fazer o dowload)\n",
    "#Passo 4: Calcular os indicadores(faturamento e quantidade de produtos)\n",
    "#Passo 5: Enviar e-mail para a diretoria"
   ]
  },
  {
   "cell_type": "code",
   "execution_count": 20,
   "metadata": {},
   "outputs": [],
   "source": [
    "#importações\n",
    "#import pyautogui as pd\n",
    "#import pyperclip as pc"
   ]
  },
  {
   "cell_type": "code",
   "execution_count": 34,
   "metadata": {},
   "outputs": [],
   "source": [
    "#Passo 1: Entrar no sistema da empresa (no link do drive)\n",
    "pg.press(\"win\")\n",
    "pg.write(\"Chrome\")\n",
    "pg.press(\"enter\")\n",
    "pg.PAUSE = 1\n",
    "pc.copy(\"https://drive.google.com/drive/folders/149xknr9JvrlEnhNWO49zPcw0PW5icxga?usp=sharing\")\n",
    "pg.PAUSE = 1\n",
    "pg.hotkey(\"ctrl\", \"v\")\n",
    "pg.press (\"enter\")\n",
    "pg.press (\"F11\")\n"
   ]
  }
 ],
 "metadata": {
  "kernelspec": {
   "display_name": "Python 3",
   "language": "python",
   "name": "python3"
  },
  "language_info": {
   "codemirror_mode": {
    "name": "ipython",
    "version": 3
   },
   "file_extension": ".py",
   "mimetype": "text/x-python",
   "name": "python",
   "nbconvert_exporter": "python",
   "pygments_lexer": "ipython3",
   "version": "3.11.3"
  },
  "orig_nbformat": 4
 },
 "nbformat": 4,
 "nbformat_minor": 2
}
